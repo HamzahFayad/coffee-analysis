{
 "cells": [
  {
   "cell_type": "code",
   "execution_count": 1,
   "id": "ce92f891-2ab1-4900-822a-89269789ec9e",
   "metadata": {},
   "outputs": [],
   "source": [
    "import pandas as pd\n",
    "import matplotlib.pyplot as plt\n",
    "import seaborn as sns\n",
    "\n",
    "plt.style.use('ggplot')"
   ]
  },
  {
   "cell_type": "code",
   "execution_count": 8,
   "id": "e3c1e757-a8c7-4ee3-a2c1-2928a927733e",
   "metadata": {},
   "outputs": [
    {
     "data": {
      "text/html": [
       "<div>\n",
       "<style scoped>\n",
       "    .dataframe tbody tr th:only-of-type {\n",
       "        vertical-align: middle;\n",
       "    }\n",
       "\n",
       "    .dataframe tbody tr th {\n",
       "        vertical-align: top;\n",
       "    }\n",
       "\n",
       "    .dataframe thead th {\n",
       "        text-align: right;\n",
       "    }\n",
       "</style>\n",
       "<table border=\"1\" class=\"dataframe\">\n",
       "  <thead>\n",
       "    <tr style=\"text-align: right;\">\n",
       "      <th></th>\n",
       "      <th>Domain Code</th>\n",
       "      <th>Domain</th>\n",
       "      <th>Area Code (M49)</th>\n",
       "      <th>Area</th>\n",
       "      <th>Element Code</th>\n",
       "      <th>Element</th>\n",
       "      <th>Item Code (CPC)</th>\n",
       "      <th>Item</th>\n",
       "      <th>Year Code</th>\n",
       "      <th>Year</th>\n",
       "      <th>Unit</th>\n",
       "      <th>Value</th>\n",
       "      <th>Flag</th>\n",
       "      <th>Flag Description</th>\n",
       "      <th>Note</th>\n",
       "    </tr>\n",
       "  </thead>\n",
       "  <tbody>\n",
       "    <tr>\n",
       "      <th>0</th>\n",
       "      <td>QCL</td>\n",
       "      <td>Crops and livestock products</td>\n",
       "      <td>24</td>\n",
       "      <td>Angola</td>\n",
       "      <td>5312</td>\n",
       "      <td>Area harvested</td>\n",
       "      <td>1610</td>\n",
       "      <td>Coffee, green</td>\n",
       "      <td>1961</td>\n",
       "      <td>1961</td>\n",
       "      <td>ha</td>\n",
       "      <td>350000.0</td>\n",
       "      <td>A</td>\n",
       "      <td>Official figure</td>\n",
       "      <td>NaN</td>\n",
       "    </tr>\n",
       "    <tr>\n",
       "      <th>1</th>\n",
       "      <td>QCL</td>\n",
       "      <td>Crops and livestock products</td>\n",
       "      <td>24</td>\n",
       "      <td>Angola</td>\n",
       "      <td>5510</td>\n",
       "      <td>Production</td>\n",
       "      <td>1610</td>\n",
       "      <td>Coffee, green</td>\n",
       "      <td>1961</td>\n",
       "      <td>1961</td>\n",
       "      <td>t</td>\n",
       "      <td>168600.0</td>\n",
       "      <td>A</td>\n",
       "      <td>Official figure</td>\n",
       "      <td>NaN</td>\n",
       "    </tr>\n",
       "    <tr>\n",
       "      <th>2</th>\n",
       "      <td>QCL</td>\n",
       "      <td>Crops and livestock products</td>\n",
       "      <td>24</td>\n",
       "      <td>Angola</td>\n",
       "      <td>5312</td>\n",
       "      <td>Area harvested</td>\n",
       "      <td>1610</td>\n",
       "      <td>Coffee, green</td>\n",
       "      <td>1962</td>\n",
       "      <td>1962</td>\n",
       "      <td>ha</td>\n",
       "      <td>500000.0</td>\n",
       "      <td>A</td>\n",
       "      <td>Official figure</td>\n",
       "      <td>NaN</td>\n",
       "    </tr>\n",
       "    <tr>\n",
       "      <th>3</th>\n",
       "      <td>QCL</td>\n",
       "      <td>Crops and livestock products</td>\n",
       "      <td>24</td>\n",
       "      <td>Angola</td>\n",
       "      <td>5510</td>\n",
       "      <td>Production</td>\n",
       "      <td>1610</td>\n",
       "      <td>Coffee, green</td>\n",
       "      <td>1962</td>\n",
       "      <td>1962</td>\n",
       "      <td>t</td>\n",
       "      <td>185000.0</td>\n",
       "      <td>A</td>\n",
       "      <td>Official figure</td>\n",
       "      <td>NaN</td>\n",
       "    </tr>\n",
       "    <tr>\n",
       "      <th>4</th>\n",
       "      <td>QCL</td>\n",
       "      <td>Crops and livestock products</td>\n",
       "      <td>24</td>\n",
       "      <td>Angola</td>\n",
       "      <td>5312</td>\n",
       "      <td>Area harvested</td>\n",
       "      <td>1610</td>\n",
       "      <td>Coffee, green</td>\n",
       "      <td>1963</td>\n",
       "      <td>1963</td>\n",
       "      <td>ha</td>\n",
       "      <td>500000.0</td>\n",
       "      <td>E</td>\n",
       "      <td>Estimated value</td>\n",
       "      <td>NaN</td>\n",
       "    </tr>\n",
       "  </tbody>\n",
       "</table>\n",
       "</div>"
      ],
      "text/plain": [
       "  Domain Code                        Domain  Area Code (M49)    Area  \\\n",
       "0         QCL  Crops and livestock products               24  Angola   \n",
       "1         QCL  Crops and livestock products               24  Angola   \n",
       "2         QCL  Crops and livestock products               24  Angola   \n",
       "3         QCL  Crops and livestock products               24  Angola   \n",
       "4         QCL  Crops and livestock products               24  Angola   \n",
       "\n",
       "   Element Code         Element  Item Code (CPC)           Item  Year Code  \\\n",
       "0          5312  Area harvested             1610  Coffee, green       1961   \n",
       "1          5510      Production             1610  Coffee, green       1961   \n",
       "2          5312  Area harvested             1610  Coffee, green       1962   \n",
       "3          5510      Production             1610  Coffee, green       1962   \n",
       "4          5312  Area harvested             1610  Coffee, green       1963   \n",
       "\n",
       "   Year Unit     Value Flag Flag Description Note  \n",
       "0  1961   ha  350000.0    A  Official figure  NaN  \n",
       "1  1961    t  168600.0    A  Official figure  NaN  \n",
       "2  1962   ha  500000.0    A  Official figure  NaN  \n",
       "3  1962    t  185000.0    A  Official figure  NaN  \n",
       "4  1963   ha  500000.0    E  Estimated value  NaN  "
      ]
     },
     "execution_count": 8,
     "metadata": {},
     "output_type": "execute_result"
    }
   ],
   "source": [
    "df_prod = pd.read_csv(\"./raw_data/production-quantity_raw.csv\")\n",
    "df_prod.head()"
   ]
  },
  {
   "cell_type": "markdown",
   "id": "d9d7551d-a1f0-45b3-baee-c8adbac3c7de",
   "metadata": {},
   "source": [
    "##### first data understandings - (PRODUCTION QUANTITY & AREA HARVESTED)"
   ]
  },
  {
   "cell_type": "code",
   "execution_count": 4,
   "id": "35f54631-d724-4f1a-9440-209894a3cf10",
   "metadata": {},
   "outputs": [
    {
     "data": {
      "text/plain": [
       "(10556, 15)"
      ]
     },
     "execution_count": 4,
     "metadata": {},
     "output_type": "execute_result"
    }
   ],
   "source": [
    "df_prod.shape"
   ]
  },
  {
   "cell_type": "code",
   "execution_count": 6,
   "id": "1919c6f5-f4cd-4391-b924-bf4b4d3df1a1",
   "metadata": {},
   "outputs": [
    {
     "data": {
      "text/plain": [
       "Domain Code          object\n",
       "Domain               object\n",
       "Area Code (M49)       int64\n",
       "Area                 object\n",
       "Element Code          int64\n",
       "Element              object\n",
       "Item Code (CPC)       int64\n",
       "Item                 object\n",
       "Year Code             int64\n",
       "Year                  int64\n",
       "Unit                 object\n",
       "Value               float64\n",
       "Flag                 object\n",
       "Flag Description     object\n",
       "Note                 object\n",
       "dtype: object"
      ]
     },
     "execution_count": 6,
     "metadata": {},
     "output_type": "execute_result"
    }
   ],
   "source": [
    "df_prod.dtypes"
   ]
  },
  {
   "cell_type": "code",
   "execution_count": 9,
   "id": "839e92eb-08a1-4602-9422-56efb82eb78e",
   "metadata": {},
   "outputs": [],
   "source": [
    "#Columns to keep: Area Code (M49), Area, Element (make own columns for each element), Year, Unit, Value"
   ]
  },
  {
   "cell_type": "code",
   "execution_count": 10,
   "id": "3782fbd5-644d-4195-8add-17813734fbd4",
   "metadata": {},
   "outputs": [
    {
     "data": {
      "text/html": [
       "<div>\n",
       "<style scoped>\n",
       "    .dataframe tbody tr th:only-of-type {\n",
       "        vertical-align: middle;\n",
       "    }\n",
       "\n",
       "    .dataframe tbody tr th {\n",
       "        vertical-align: top;\n",
       "    }\n",
       "\n",
       "    .dataframe thead th {\n",
       "        text-align: right;\n",
       "    }\n",
       "</style>\n",
       "<table border=\"1\" class=\"dataframe\">\n",
       "  <thead>\n",
       "    <tr style=\"text-align: right;\">\n",
       "      <th></th>\n",
       "      <th>Area Code (M49)</th>\n",
       "      <th>Element Code</th>\n",
       "      <th>Item Code (CPC)</th>\n",
       "      <th>Year Code</th>\n",
       "      <th>Year</th>\n",
       "      <th>Value</th>\n",
       "    </tr>\n",
       "  </thead>\n",
       "  <tbody>\n",
       "    <tr>\n",
       "      <th>count</th>\n",
       "      <td>10556.000000</td>\n",
       "      <td>10556.000000</td>\n",
       "      <td>10556.0</td>\n",
       "      <td>10556.000000</td>\n",
       "      <td>10556.000000</td>\n",
       "      <td>1.018800e+04</td>\n",
       "    </tr>\n",
       "    <tr>\n",
       "      <th>mean</th>\n",
       "      <td>426.635468</td>\n",
       "      <td>5411.318871</td>\n",
       "      <td>1610.0</td>\n",
       "      <td>1991.807408</td>\n",
       "      <td>1991.807408</td>\n",
       "      <td>1.039288e+05</td>\n",
       "    </tr>\n",
       "    <tr>\n",
       "      <th>std</th>\n",
       "      <td>245.768005</td>\n",
       "      <td>99.004176</td>\n",
       "      <td>0.0</td>\n",
       "      <td>18.137591</td>\n",
       "      <td>18.137591</td>\n",
       "      <td>2.984428e+05</td>\n",
       "    </tr>\n",
       "    <tr>\n",
       "      <th>min</th>\n",
       "      <td>24.000000</td>\n",
       "      <td>5312.000000</td>\n",
       "      <td>1610.0</td>\n",
       "      <td>1961.000000</td>\n",
       "      <td>1961.000000</td>\n",
       "      <td>0.000000e+00</td>\n",
       "    </tr>\n",
       "    <tr>\n",
       "      <th>25%</th>\n",
       "      <td>192.000000</td>\n",
       "      <td>5312.000000</td>\n",
       "      <td>1610.0</td>\n",
       "      <td>1976.000000</td>\n",
       "      <td>1976.000000</td>\n",
       "      <td>5.400000e+02</td>\n",
       "    </tr>\n",
       "    <tr>\n",
       "      <th>50%</th>\n",
       "      <td>404.000000</td>\n",
       "      <td>5510.000000</td>\n",
       "      <td>1610.0</td>\n",
       "      <td>1992.000000</td>\n",
       "      <td>1992.000000</td>\n",
       "      <td>1.000000e+04</td>\n",
       "    </tr>\n",
       "    <tr>\n",
       "      <th>75%</th>\n",
       "      <td>630.000000</td>\n",
       "      <td>5510.000000</td>\n",
       "      <td>1610.0</td>\n",
       "      <td>2007.000000</td>\n",
       "      <td>2007.000000</td>\n",
       "      <td>7.804375e+04</td>\n",
       "    </tr>\n",
       "    <tr>\n",
       "      <th>max</th>\n",
       "      <td>894.000000</td>\n",
       "      <td>5510.000000</td>\n",
       "      <td>1610.0</td>\n",
       "      <td>2023.000000</td>\n",
       "      <td>2023.000000</td>\n",
       "      <td>4.462657e+06</td>\n",
       "    </tr>\n",
       "  </tbody>\n",
       "</table>\n",
       "</div>"
      ],
      "text/plain": [
       "       Area Code (M49)  Element Code  Item Code (CPC)     Year Code  \\\n",
       "count     10556.000000  10556.000000          10556.0  10556.000000   \n",
       "mean        426.635468   5411.318871           1610.0   1991.807408   \n",
       "std         245.768005     99.004176              0.0     18.137591   \n",
       "min          24.000000   5312.000000           1610.0   1961.000000   \n",
       "25%         192.000000   5312.000000           1610.0   1976.000000   \n",
       "50%         404.000000   5510.000000           1610.0   1992.000000   \n",
       "75%         630.000000   5510.000000           1610.0   2007.000000   \n",
       "max         894.000000   5510.000000           1610.0   2023.000000   \n",
       "\n",
       "               Year         Value  \n",
       "count  10556.000000  1.018800e+04  \n",
       "mean    1991.807408  1.039288e+05  \n",
       "std       18.137591  2.984428e+05  \n",
       "min     1961.000000  0.000000e+00  \n",
       "25%     1976.000000  5.400000e+02  \n",
       "50%     1992.000000  1.000000e+04  \n",
       "75%     2007.000000  7.804375e+04  \n",
       "max     2023.000000  4.462657e+06  "
      ]
     },
     "execution_count": 10,
     "metadata": {},
     "output_type": "execute_result"
    }
   ],
   "source": [
    "df_prod.describe()"
   ]
  },
  {
   "cell_type": "code",
   "execution_count": 12,
   "id": "10917751-e7de-406b-adcd-13d43e9c4119",
   "metadata": {},
   "outputs": [
    {
     "data": {
      "text/plain": [
       "2"
      ]
     },
     "execution_count": 12,
     "metadata": {},
     "output_type": "execute_result"
    }
   ],
   "source": [
    "df_prod[\"Element\"].nunique()"
   ]
  },
  {
   "cell_type": "code",
   "execution_count": 13,
   "id": "0d65dc7a-ea28-4e7d-961c-809b0d81b233",
   "metadata": {},
   "outputs": [
    {
     "data": {
      "image/png": "[encoded data removed]",
      "text/plain": [
       "<Figure size 640x480 with 1 Axes>"
      ]
     },
     "metadata": {},
     "output_type": "display_data"
    }
   ],
   "source": [
    "sns.boxplot(df_prod['Value'])\n",
    "plt.show()"
   ]
  },
  {
   "cell_type": "code",
   "execution_count": null,
   "id": "5a900aea-be3f-4b0a-805d-fdf7883d27e2",
   "metadata": {},
   "outputs": [],
   "source": []
  }
 ],
 "metadata": {
  "kernelspec": {
   "display_name": "Python 3 (ipykernel)",
   "language": "python",
   "name": "python3"
  },
  "language_info": {
   "codemirror_mode": {
    "name": "ipython",
    "version": 3
   },
   "file_extension": ".py",
   "mimetype": "text/x-python",
   "name": "python",
   "nbconvert_exporter": "python",
   "pygments_lexer": "ipython3",
   "version": "3.11.0"
  }
 },
 "nbformat": 4,
 "nbformat_minor": 5
}
